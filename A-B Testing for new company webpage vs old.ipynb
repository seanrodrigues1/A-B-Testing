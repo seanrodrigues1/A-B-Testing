{
 "cells": [
  {
   "cell_type": "markdown",
   "id": "06c98e93",
   "metadata": {},
   "source": [
    "ABOUT THE EXPERIMENT:\n",
    "    \n",
    "We are conducting an A/B Test to check if a new webpage design for a hypothetical company is better than\n",
    "the previous version in terms of conversion rate (ie. did the user make a purchase on the webpage).\n",
    "\n",
    "Control Group : Users who are exposed to the old webpage design\n",
    "Test Group: Users who are exposed to the new webpage design.\n",
    "\n"
   ]
  },
  {
   "cell_type": "markdown",
   "id": "d36c0880",
   "metadata": {},
   "source": [
    "# IMPORTING LIBRARIES AND LOADING DATA"
   ]
  },
  {
   "cell_type": "code",
   "execution_count": 48,
   "id": "d8e29d39",
   "metadata": {},
   "outputs": [],
   "source": [
    "import pandas as pd\n",
    "import numpy as np\n",
    "import datetime\n",
    "from scipy.stats import chi2_contingency"
   ]
  },
  {
   "cell_type": "code",
   "execution_count": 49,
   "id": "eb3bb09e",
   "metadata": {},
   "outputs": [
    {
     "data": {
      "text/html": [
       "<div>\n",
       "<style scoped>\n",
       "    .dataframe tbody tr th:only-of-type {\n",
       "        vertical-align: middle;\n",
       "    }\n",
       "\n",
       "    .dataframe tbody tr th {\n",
       "        vertical-align: top;\n",
       "    }\n",
       "\n",
       "    .dataframe thead th {\n",
       "        text-align: right;\n",
       "    }\n",
       "</style>\n",
       "<table border=\"1\" class=\"dataframe\">\n",
       "  <thead>\n",
       "    <tr style=\"text-align: right;\">\n",
       "      <th></th>\n",
       "      <th>user_id</th>\n",
       "      <th>timestamp</th>\n",
       "      <th>group</th>\n",
       "      <th>landing_page</th>\n",
       "      <th>converted</th>\n",
       "    </tr>\n",
       "  </thead>\n",
       "  <tbody>\n",
       "    <tr>\n",
       "      <th>0</th>\n",
       "      <td>851104</td>\n",
       "      <td>2017-01-21 22:11:48.556739</td>\n",
       "      <td>control</td>\n",
       "      <td>old_page</td>\n",
       "      <td>0</td>\n",
       "    </tr>\n",
       "    <tr>\n",
       "      <th>1</th>\n",
       "      <td>804228</td>\n",
       "      <td>2017-01-12 08:01:45.159739</td>\n",
       "      <td>control</td>\n",
       "      <td>old_page</td>\n",
       "      <td>0</td>\n",
       "    </tr>\n",
       "    <tr>\n",
       "      <th>2</th>\n",
       "      <td>661590</td>\n",
       "      <td>2017-01-11 16:55:06.154213</td>\n",
       "      <td>treatment</td>\n",
       "      <td>new_page</td>\n",
       "      <td>0</td>\n",
       "    </tr>\n",
       "    <tr>\n",
       "      <th>3</th>\n",
       "      <td>853541</td>\n",
       "      <td>2017-01-08 18:28:03.143765</td>\n",
       "      <td>treatment</td>\n",
       "      <td>new_page</td>\n",
       "      <td>0</td>\n",
       "    </tr>\n",
       "    <tr>\n",
       "      <th>4</th>\n",
       "      <td>864975</td>\n",
       "      <td>2017-01-21 01:52:26.210827</td>\n",
       "      <td>control</td>\n",
       "      <td>old_page</td>\n",
       "      <td>1</td>\n",
       "    </tr>\n",
       "  </tbody>\n",
       "</table>\n",
       "</div>"
      ],
      "text/plain": [
       "   user_id                   timestamp      group landing_page  converted\n",
       "0   851104  2017-01-21 22:11:48.556739    control     old_page          0\n",
       "1   804228  2017-01-12 08:01:45.159739    control     old_page          0\n",
       "2   661590  2017-01-11 16:55:06.154213  treatment     new_page          0\n",
       "3   853541  2017-01-08 18:28:03.143765  treatment     new_page          0\n",
       "4   864975  2017-01-21 01:52:26.210827    control     old_page          1"
      ]
     },
     "execution_count": 49,
     "metadata": {},
     "output_type": "execute_result"
    }
   ],
   "source": [
    "df=pd.read_csv(\"C:/Users/seanr/OneDrive/Desktop/assignments/ab_data.csv\")\n",
    "df.head()"
   ]
  },
  {
   "cell_type": "markdown",
   "id": "5c43a357",
   "metadata": {},
   "source": [
    "# EXPLORATORY DATA ANALYSIS"
   ]
  },
  {
   "cell_type": "code",
   "execution_count": 50,
   "id": "5cd6fc0f",
   "metadata": {},
   "outputs": [
    {
     "name": "stdout",
     "output_type": "stream",
     "text": [
      "<class 'pandas.core.frame.DataFrame'>\n",
      "RangeIndex: 294478 entries, 0 to 294477\n",
      "Data columns (total 5 columns):\n",
      " #   Column        Non-Null Count   Dtype \n",
      "---  ------        --------------   ----- \n",
      " 0   user_id       294478 non-null  int64 \n",
      " 1   timestamp     294478 non-null  object\n",
      " 2   group         294478 non-null  object\n",
      " 3   landing_page  294478 non-null  object\n",
      " 4   converted     294478 non-null  int64 \n",
      "dtypes: int64(2), object(3)\n",
      "memory usage: 11.2+ MB\n"
     ]
    }
   ],
   "source": [
    "df.info()"
   ]
  },
  {
   "cell_type": "markdown",
   "id": "39c251d3",
   "metadata": {},
   "source": [
    "Checking for null values"
   ]
  },
  {
   "cell_type": "code",
   "execution_count": 51,
   "id": "5ee19ea2",
   "metadata": {},
   "outputs": [
    {
     "data": {
      "text/plain": [
       "user_id         0\n",
       "timestamp       0\n",
       "group           0\n",
       "landing_page    0\n",
       "converted       0\n",
       "dtype: int64"
      ]
     },
     "execution_count": 51,
     "metadata": {},
     "output_type": "execute_result"
    }
   ],
   "source": [
    "df.isnull().sum()"
   ]
  },
  {
   "cell_type": "markdown",
   "id": "546ae0d1",
   "metadata": {},
   "source": [
    "Discription of dataset:"
   ]
  },
  {
   "cell_type": "code",
   "execution_count": 52,
   "id": "68db2697",
   "metadata": {},
   "outputs": [
    {
     "name": "stdout",
     "output_type": "stream",
     "text": [
      "Number of unique users in experiment: 290584\n",
      "Data collected for 21 days\n",
      "Landing pages to compare: ['old_page', 'new_page']\n"
     ]
    }
   ],
   "source": [
    "start_time = datetime.datetime.strptime(df['timestamp'].min(), '%Y-%m-%d %H:%M:%S.%f')\n",
    "end_time = datetime.datetime.strptime(df['timestamp'].max(), '%Y-%m-%d %H:%M:%S.%f')\n",
    "data_duration = (end_time - start_time).days\n",
    "\n",
    "print(f\"Number of unique users in experiment: {df['user_id'].nunique()}\")\n",
    "print(f\"Data collected for {data_duration} days\")\n",
    "print(f\"Landing pages to compare: {df['landing_page'].unique().tolist()}\")\n"
   ]
  },
  {
   "cell_type": "markdown",
   "id": "d7423896",
   "metadata": {},
   "source": [
    "Checking for duplicate rows"
   ]
  },
  {
   "cell_type": "code",
   "execution_count": 53,
   "id": "cc6890c8",
   "metadata": {},
   "outputs": [
    {
     "name": "stdout",
     "output_type": "stream",
     "text": [
      "0\n"
     ]
    }
   ],
   "source": [
    "duplicateRows = df[df.duplicated()]\n",
    "print(len(duplicateRows))"
   ]
  },
  {
   "cell_type": "markdown",
   "id": "bd8186c8",
   "metadata": {},
   "source": [
    "Checking for duplicate rows for user_id:\n"
   ]
  },
  {
   "cell_type": "code",
   "execution_count": 54,
   "id": "302d8d43",
   "metadata": {},
   "outputs": [
    {
     "name": "stdout",
     "output_type": "stream",
     "text": [
      "        user_id                   timestamp      group landing_page  converted\n",
      "2656     698120  2017-01-15 17:13:42.602796    control     old_page          0\n",
      "2893     773192  2017-01-14 02:55:59.590927  treatment     new_page          0\n",
      "7500     899953  2017-01-07 03:06:54.068237    control     new_page          0\n",
      "8036     790934  2017-01-19 08:32:20.329057  treatment     new_page          0\n",
      "10218    633793  2017-01-17 00:16:00.746561  treatment     old_page          0\n",
      "...         ...                         ...        ...          ...        ...\n",
      "294308   905197  2017-01-03 06:56:47.488231  treatment     new_page          0\n",
      "294309   787083  2017-01-17 00:15:20.950723    control     old_page          0\n",
      "294328   641570  2017-01-09 21:59:27.695711    control     old_page          0\n",
      "294331   689637  2017-01-13 11:34:28.339532    control     new_page          0\n",
      "294355   744456  2017-01-13 09:32:07.106794  treatment     new_page          0\n",
      "\n",
      "[3894 rows x 5 columns]\n"
     ]
    }
   ],
   "source": [
    "duplicateRows = df[df.duplicated(['user_id'])]\n",
    "print(duplicateRows)"
   ]
  },
  {
   "cell_type": "code",
   "execution_count": 55,
   "id": "290ba217",
   "metadata": {},
   "outputs": [
    {
     "name": "stdout",
     "output_type": "stream",
     "text": [
      "1.3223398691922656\n"
     ]
    }
   ],
   "source": [
    "invalid_users_percentage= (len(duplicateRows)/len(df))*100\n",
    "print(invalid_users_percentage)"
   ]
  },
  {
   "cell_type": "markdown",
   "id": "a902bc1d",
   "metadata": {},
   "source": [
    "As we can see above there are 3894 rows where user ID id is duplicate,this could be because the user was in the test and control group.\n",
    "As seen below,we have 1.3%  users in both buckets and  must get rid of these users since in A/B testing a user is allowed to be only in one of the buckets-control or experiment not both.Hence we shall address this in the preprocessing section."
   ]
  },
  {
   "cell_type": "code",
   "execution_count": 56,
   "id": "65bf17b2",
   "metadata": {},
   "outputs": [
    {
     "data": {
      "text/html": [
       "<div>\n",
       "<style scoped>\n",
       "    .dataframe tbody tr th:only-of-type {\n",
       "        vertical-align: middle;\n",
       "    }\n",
       "\n",
       "    .dataframe tbody tr th {\n",
       "        vertical-align: top;\n",
       "    }\n",
       "\n",
       "    .dataframe thead th {\n",
       "        text-align: right;\n",
       "    }\n",
       "</style>\n",
       "<table border=\"1\" class=\"dataframe\">\n",
       "  <thead>\n",
       "    <tr style=\"text-align: right;\">\n",
       "      <th></th>\n",
       "      <th>user_id</th>\n",
       "      <th>timestamp</th>\n",
       "      <th>group</th>\n",
       "      <th>landing_page</th>\n",
       "      <th>converted</th>\n",
       "    </tr>\n",
       "  </thead>\n",
       "  <tbody>\n",
       "    <tr>\n",
       "      <th>29073</th>\n",
       "      <td>746755</td>\n",
       "      <td>2017-01-11 01:28:57.083669</td>\n",
       "      <td>control</td>\n",
       "      <td>new_page</td>\n",
       "      <td>1</td>\n",
       "    </tr>\n",
       "    <tr>\n",
       "      <th>105487</th>\n",
       "      <td>722274</td>\n",
       "      <td>2017-01-19 01:46:53.093257</td>\n",
       "      <td>control</td>\n",
       "      <td>old_page</td>\n",
       "      <td>0</td>\n",
       "    </tr>\n",
       "    <tr>\n",
       "      <th>262554</th>\n",
       "      <td>722274</td>\n",
       "      <td>2017-01-09 21:21:23.638444</td>\n",
       "      <td>control</td>\n",
       "      <td>new_page</td>\n",
       "      <td>0</td>\n",
       "    </tr>\n",
       "    <tr>\n",
       "      <th>286566</th>\n",
       "      <td>746755</td>\n",
       "      <td>2017-01-05 03:40:08.457451</td>\n",
       "      <td>control</td>\n",
       "      <td>old_page</td>\n",
       "      <td>0</td>\n",
       "    </tr>\n",
       "  </tbody>\n",
       "</table>\n",
       "</div>"
      ],
      "text/plain": [
       "        user_id                   timestamp    group landing_page  converted\n",
       "29073    746755  2017-01-11 01:28:57.083669  control     new_page          1\n",
       "105487   722274  2017-01-19 01:46:53.093257  control     old_page          0\n",
       "262554   722274  2017-01-09 21:21:23.638444  control     new_page          0\n",
       "286566   746755  2017-01-05 03:40:08.457451  control     old_page          0"
      ]
     },
     "execution_count": 56,
     "metadata": {},
     "output_type": "execute_result"
    }
   ],
   "source": [
    "# Sample of users who are in both buckets-test and control\n",
    "\n",
    "sample = df[df['user_id'].isin([746755,722274])]\n",
    "sample"
   ]
  },
  {
   "cell_type": "markdown",
   "id": "63abc3dd",
   "metadata": {},
   "source": [
    "As we can see below, the timestamp column values are a string and thus we would need to convert it to datetime in the preprocessing step"
   ]
  },
  {
   "cell_type": "code",
   "execution_count": 57,
   "id": "f2ec5104",
   "metadata": {},
   "outputs": [
    {
     "data": {
      "text/plain": [
       "str"
      ]
     },
     "execution_count": 57,
     "metadata": {},
     "output_type": "execute_result"
    }
   ],
   "source": [
    "type(df[\"timestamp\"][0])"
   ]
  },
  {
   "cell_type": "markdown",
   "id": "d8dd3c39",
   "metadata": {},
   "source": [
    "Visualizing the Distributions for \"group\", \"landing page\" and \"converted\":"
   ]
  },
  {
   "cell_type": "code",
   "execution_count": 58,
   "id": "3f6f45d5",
   "metadata": {},
   "outputs": [
    {
     "data": {
      "text/plain": [
       "treatment    147276\n",
       "control      147202\n",
       "Name: group, dtype: int64"
      ]
     },
     "execution_count": 58,
     "metadata": {},
     "output_type": "execute_result"
    }
   ],
   "source": [
    "# Treatment and control group should have equal counts, they are unequal because of some duplicate users being in both control and experiment groups.\n",
    "\n",
    "df[\"group\"].value_counts()"
   ]
  },
  {
   "cell_type": "code",
   "execution_count": 59,
   "id": "a027bdf7",
   "metadata": {},
   "outputs": [
    {
     "data": {
      "text/plain": [
       "<Axes: >"
      ]
     },
     "execution_count": 59,
     "metadata": {},
     "output_type": "execute_result"
    },
    {
     "data": {
      "image/png": "[encoded data removed]",
      "text/plain": [
       "<Figure size 640x480 with 1 Axes>"
      ]
     },
     "metadata": {},
     "output_type": "display_data"
    }
   ],
   "source": [
    "df[\"group\"].value_counts().plot(kind=\"bar\")"
   ]
  },
  {
   "cell_type": "code",
   "execution_count": 60,
   "id": "287de3c6",
   "metadata": {},
   "outputs": [
    {
     "data": {
      "text/plain": [
       "old_page    147239\n",
       "new_page    147239\n",
       "Name: landing_page, dtype: int64"
      ]
     },
     "execution_count": 60,
     "metadata": {},
     "output_type": "execute_result"
    }
   ],
   "source": [
    "df[\"landing_page\"].value_counts()"
   ]
  },
  {
   "cell_type": "code",
   "execution_count": 61,
   "id": "3894fe43",
   "metadata": {},
   "outputs": [
    {
     "data": {
      "text/plain": [
       "<Axes: >"
      ]
     },
     "execution_count": 61,
     "metadata": {},
     "output_type": "execute_result"
    },
    {
     "data": {
      "image/png": "[encoded data removed]",
      "text/plain": [
       "<Figure size 640x480 with 1 Axes>"
      ]
     },
     "metadata": {},
     "output_type": "display_data"
    }
   ],
   "source": [
    "df[\"landing_page\"].value_counts().plot(kind=\"bar\")"
   ]
  },
  {
   "cell_type": "code",
   "execution_count": 62,
   "id": "ff96699f",
   "metadata": {},
   "outputs": [
    {
     "data": {
      "text/plain": [
       "<Axes: >"
      ]
     },
     "execution_count": 62,
     "metadata": {},
     "output_type": "execute_result"
    },
    {
     "data": {
      "image/png": "[encoded data removed]",
      "text/plain": [
       "<Figure size 640x480 with 1 Axes>"
      ]
     },
     "metadata": {},
     "output_type": "display_data"
    }
   ],
   "source": [
    "df[\"converted\"].value_counts().plot(kind=\"bar\")"
   ]
  },
  {
   "cell_type": "markdown",
   "id": "9e4b3160",
   "metadata": {},
   "source": [
    "# PREPROCSSING"
   ]
  },
  {
   "cell_type": "markdown",
   "id": "d0e2686a",
   "metadata": {},
   "source": [
    "Converting Timestamp column into datetime datatype"
   ]
  },
  {
   "cell_type": "code",
   "execution_count": 63,
   "id": "2f229341",
   "metadata": {},
   "outputs": [],
   "source": [
    "def convert(date):\n",
    "    date_converted = datetime.datetime.strptime(date , '%Y-%m-%d %H:%M:%S.%f')\n",
    "    return date_converted\n",
    "    \n",
    "df['timestamp'] = df[\"timestamp\"].apply(convert)"
   ]
  },
  {
   "cell_type": "code",
   "execution_count": 64,
   "id": "3113eff9",
   "metadata": {},
   "outputs": [
    {
     "data": {
      "text/plain": [
       "pandas._libs.tslibs.timestamps.Timestamp"
      ]
     },
     "execution_count": 64,
     "metadata": {},
     "output_type": "execute_result"
    }
   ],
   "source": [
    "type(df[\"timestamp\"][1])"
   ]
  },
  {
   "cell_type": "markdown",
   "id": "00e0133a",
   "metadata": {},
   "source": [
    "Removing invalid users who are in multiple buckets ie test and control"
   ]
  },
  {
   "cell_type": "code",
   "execution_count": 66,
   "id": "5ad0a3b2",
   "metadata": {},
   "outputs": [
    {
     "name": "stdout",
     "output_type": "stream",
     "text": [
      "(290584, 5)\n"
     ]
    }
   ],
   "source": [
    "df=df.drop_duplicates(subset=['user_id'])\n",
    "print(df.shape)"
   ]
  },
  {
   "cell_type": "markdown",
   "id": "ba6f1564",
   "metadata": {},
   "source": [
    "Adding a \"week\" column to track the timeline of the experiment"
   ]
  },
  {
   "cell_type": "code",
   "execution_count": 68,
   "id": "b3d4cbc1",
   "metadata": {},
   "outputs": [
    {
     "data": {
      "text/html": [
       "<div>\n",
       "<style scoped>\n",
       "    .dataframe tbody tr th:only-of-type {\n",
       "        vertical-align: middle;\n",
       "    }\n",
       "\n",
       "    .dataframe tbody tr th {\n",
       "        vertical-align: top;\n",
       "    }\n",
       "\n",
       "    .dataframe thead th {\n",
       "        text-align: right;\n",
       "    }\n",
       "</style>\n",
       "<table border=\"1\" class=\"dataframe\">\n",
       "  <thead>\n",
       "    <tr style=\"text-align: right;\">\n",
       "      <th></th>\n",
       "      <th>user_id</th>\n",
       "      <th>timestamp</th>\n",
       "      <th>group</th>\n",
       "      <th>landing_page</th>\n",
       "      <th>converted</th>\n",
       "      <th>week</th>\n",
       "    </tr>\n",
       "  </thead>\n",
       "  <tbody>\n",
       "    <tr>\n",
       "      <th>202996</th>\n",
       "      <td>897300</td>\n",
       "      <td>2017-01-13 17:20:47.520477</td>\n",
       "      <td>control</td>\n",
       "      <td>old_page</td>\n",
       "      <td>0</td>\n",
       "      <td>2</td>\n",
       "    </tr>\n",
       "  </tbody>\n",
       "</table>\n",
       "</div>"
      ],
      "text/plain": [
       "        user_id                  timestamp    group landing_page  converted  \\\n",
       "202996   897300 2017-01-13 17:20:47.520477  control     old_page          0   \n",
       "\n",
       "        week  \n",
       "202996     2  "
      ]
     },
     "execution_count": 68,
     "metadata": {},
     "output_type": "execute_result"
    }
   ],
   "source": [
    "df['week'] = df['timestamp'].apply(lambda x: x.isocalendar()[1])\n",
    "df.sample()"
   ]
  },
  {
   "cell_type": "markdown",
   "id": "7d5d84b4",
   "metadata": {},
   "source": [
    "# A/B TESTING USING FREQUENTIST APPROACH"
   ]
  },
  {
   "cell_type": "code",
   "execution_count": 69,
   "id": "b1cce4d1",
   "metadata": {},
   "outputs": [
    {
     "name": "stdout",
     "output_type": "stream",
     "text": [
      "Treatment Conversion Rate: 11.884%\n",
      "Control Conversion Rate: 12.03%\n",
      "Lift = -0.146%\n"
     ]
    }
   ],
   "source": [
    "# LETS DERIVE OUR KPI WHICH IS CONVERSION RATES FOR CONTROL AND TEST GROUPS AND ALSO FIND THE LIFT\n",
    "\n",
    "NUM_WEEKS = 4 # Vary number to get experiment data at weekly points in time\n",
    "\n",
    "experiment_data = df[df['week'] <= NUM_WEEKS]\n",
    "control = experiment_data[experiment_data['group']=='control']\n",
    "treatment = experiment_data[experiment_data['group']=='treatment']\n",
    "\n",
    "control_conversion_perc = round(control['converted'].sum() * 100/ control['converted'].count(), 3)\n",
    "treatment_conversion_perc = round(treatment['converted'].sum() * 100/ treatment['converted'].count(), 3)\n",
    "lift = round(treatment_conversion_perc - control_conversion_perc, 3)\n",
    "\n",
    "print(f\"Treatment Conversion Rate: {treatment_conversion_perc}%\")\n",
    "print(f\"Control Conversion Rate: {control_conversion_perc}%\")\n",
    "print(f\"Lift = {lift}%\")"
   ]
  },
  {
   "cell_type": "markdown",
   "id": "52a3c957",
   "metadata": {},
   "source": [
    "Thus the test group (users which had exposure to the new website) have a lower conversion rate.\n",
    "We get a lift of -0.1, which states that the new website had a slighly negative effect.\n",
    "However we must test for statistical significance"
   ]
  },
  {
   "cell_type": "markdown",
   "id": "ce0f46ff",
   "metadata": {},
   "source": [
    "# STATISTICAL TESTING "
   ]
  },
  {
   "cell_type": "markdown",
   "id": "a2855cec",
   "metadata": {},
   "source": [
    "We use chiquare test of independence to check for association since the variables are categorical\n",
    "\n",
    "Null hypothesis: The variables have a statistically significant association\n",
    "\n",
    "Alternate hypothesis: The variables do not have a statistically significant association"
   ]
  },
  {
   "cell_type": "code",
   "execution_count": 70,
   "id": "74dd799b",
   "metadata": {},
   "outputs": [],
   "source": [
    "# CONDUCTING CHI SQUARE TEST OF INDEPENDENCE TO CHECK FOR SIGNIFICANT ASSOCIATION BETWEEN CONVERSION (1 or 0) AND WEBSITE TYPE (OLD OR NEW)\n",
    "\n",
    "# Create Contingency Table for Chi Squared Test\n",
    "control_converted = control['converted'].sum()\n",
    "treatment_converted = treatment['converted'].sum()\n",
    "control_non_converted = control['converted'].count() - control_converted\n",
    "treatment_non_converted = treatment['converted'].count() - treatment_converted\n",
    "contingency_table = np.array([[control_converted, control_non_converted], \n",
    "                              [treatment_converted, treatment_non_converted]])"
   ]
  },
  {
   "cell_type": "code",
   "execution_count": 71,
   "id": "2f6ba78e",
   "metadata": {},
   "outputs": [
    {
     "data": {
      "text/plain": [
       "array([[ 17471, 127761],\n",
       "       [ 17274, 128078]], dtype=int64)"
      ]
     },
     "execution_count": 71,
     "metadata": {},
     "output_type": "execute_result"
    }
   ],
   "source": [
    "contingency_table"
   ]
  },
  {
   "cell_type": "code",
   "execution_count": 73,
   "id": "a3d9f99c",
   "metadata": {},
   "outputs": [
    {
     "name": "stdout",
     "output_type": "stream",
     "text": [
      "p value 0.22689933216132585\n"
     ]
    }
   ],
   "source": [
    "chi, p_value, _, _ = chi2_contingency(contingency_table, correction=False)\n",
    "print(\"p value\", p_value)"
   ]
  },
  {
   "cell_type": "markdown",
   "id": "e9ce9b14",
   "metadata": {},
   "source": [
    "# INTERPRETATION\n",
    "\n",
    "Since p value>0.05 , we must reject the null hypothesis and conclude that the variables do not have a statistically significant association\n",
    "\n",
    "P value can also be interpreted as there is a 22% risk of concluding that an association between the variables exists when there is no actual association."
   ]
  },
  {
   "cell_type": "code",
   "execution_count": null,
   "id": "e3effadb",
   "metadata": {},
   "outputs": [],
   "source": []
  }
 ],
 "metadata": {
  "kernelspec": {
   "display_name": "Python 3 (ipykernel)",
   "language": "python",
   "name": "python3"
  },
  "language_info": {
   "codemirror_mode": {
    "name": "ipython",
    "version": 3
   },
   "file_extension": ".py",
   "mimetype": "text/x-python",
   "name": "python",
   "nbconvert_exporter": "python",
   "pygments_lexer": "ipython3",
   "version": "3.9.7"
  }
 },
 "nbformat": 4,
 "nbformat_minor": 5
}
